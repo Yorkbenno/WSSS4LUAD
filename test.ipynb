{
 "cells": [
  {
   "cell_type": "code",
   "execution_count": 1,
   "metadata": {},
   "outputs": [
    {
     "name": "stdout",
     "output_type": "stream",
     "text": [
      "0.700375976447313 0.8237895455458577\n"
     ]
    }
   ],
   "source": [
    "import os\n",
    "from PIL import Image\n",
    "import numpy as np\n",
    "pred_list = os.listdir('glas_ours_testPseudoMask')\n",
    "inter_union = np.zeros((2,2))\n",
    "for pred_file in pred_list:\n",
    "    pred = np.asarray(Image.open((f'glas_ours_testPseudoMask/{pred_file}')))\n",
    "    gt = np.asarray(Image.open(f'Dataset_warwick/2.validation/mask/{pred_file}'))\n",
    "    gt[gt > 0] = 1\n",
    "    # gt[gt == 0] = 1\n",
    "    # gt[gt == 3] = 0\n",
    "    \n",
    "    for i in range(2):\n",
    "        if i in pred:\n",
    "            inter = np.sum(np.logical_and(pred == i, gt == i))\n",
    "            u = np.sum(np.logical_or(pred == i, gt == i))\n",
    "            inter_union[0,i] += inter\n",
    "            inter_union[1,i] += u\n",
    "\n",
    "total = 0\n",
    "eps = 1e-4\n",
    "for i in range(2):\n",
    "    class_i = inter_union[0,i] / (inter_union[1,i] + eps)\n",
    "    total += class_i\n",
    "mIOU = total / 2\n",
    "dice = 2 * mIOU / (1 + mIOU)\n",
    "print(mIOU, dice)"
   ]
  },
  {
   "cell_type": "code",
   "execution_count": 9,
   "metadata": {},
   "outputs": [
    {
     "name": "stdout",
     "output_type": "stream",
     "text": [
      "0.750178092726126 0.8572591507617694\n"
     ]
    }
   ],
   "source": [
    "import os\n",
    "from PIL import Image\n",
    "import numpy as np\n",
    "pred_list = os.listdir('glas_ours_trainPseudoMask')\n",
    "inter_union = np.zeros((2,2))\n",
    "for pred_file in pred_list:\n",
    "    pred = np.asarray(Image.open((f'glas_ours_trainPseudoMask/{pred_file}')))\n",
    "    gt = np.asarray(Image.open(f'Dataset_warwick/1.training/mask/{pred_file[:-4]}_anno.bmp'))\n",
    "    gt[gt > 0] = 3\n",
    "    gt[gt == 0] = 1\n",
    "    gt[gt == 3] = 0\n",
    "    \n",
    "    for i in range(2):\n",
    "        if i in pred:\n",
    "            inter = np.sum(np.logical_and(pred == i, gt == i))\n",
    "            u = np.sum(np.logical_or(pred == i, gt == i))\n",
    "            inter_union[0,i] += inter\n",
    "            inter_union[1,i] += u\n",
    "\n",
    "total = 0\n",
    "eps = 1e-4\n",
    "for i in range(2):\n",
    "    class_i = inter_union[0,i] / (inter_union[1,i] + eps)\n",
    "    total += class_i\n",
    "mIOU = total / 2\n",
    "dice = 2 * mIOU / (1 + mIOU)\n",
    "print(mIOU, dice)"
   ]
  },
  {
   "cell_type": "code",
   "execution_count": null,
   "metadata": {},
   "outputs": [],
   "source": [
    "import os\n",
    "from PIL import Image\n",
    "import numpy as np\n",
    "import png\n",
    "pred_list = os.listdir('/home/yzouag2/WSSS4LUAD/glas_ours_trainPseudoMask')\n",
    "inter_union = np.zeros((2,2))\n",
    "destination = 'fuck'\n",
    "if not os.path.exists(destination):\n",
    "    os.mkdir(destination)\n",
    "\n",
    "for pred_file in pred_list:\n",
    "    gt = np.asarray(Image.open(f'Dataset_warwick/1.training/mask/{pred_file[:-4]}_anno.bmp'))\n",
    "    gt[gt > 0] = 3\n",
    "    gt[gt == 0] = 1\n",
    "    gt[gt == 3] = 0\n",
    "    palette = [(0, 64, 128), (64, 128, 0), (243, 152, 0), (255, 255, 255)]\n",
    "    with open(os.path.join(destination, f'{pred_file[:-4]}_anno.png'), 'wb') as f:\n",
    "        w = png.Writer(gt.shape[1], gt.shape[0],palette=palette, bitdepth=8)\n",
    "        w.write(f, gt.astype(np.uint8))"
   ]
  },
  {
   "cell_type": "code",
   "execution_count": 2,
   "metadata": {},
   "outputs": [
    {
     "name": "stderr",
     "output_type": "stream",
     "text": [
      "100%|██████████| 80/80 [00:15<00:00,  5.12it/s]\n"
     ]
    }
   ],
   "source": [
    "from PIL import Image\n",
    "import os\n",
    "import numpy as np\n",
    "from tqdm import tqdm\n",
    "\n",
    "img_path = 'Dataset_warwick/2.validation/img'\n",
    "mask_path = 'Dataset_warwick/2.validation/mask'\n",
    "\n",
    "destination = 'cropImage'\n",
    "destination1 = 'cropImageGT'\n",
    "if not os.path.exists(destination):\n",
    "    os.mkdir(destination)\n",
    "if not os.path.exists(destination1):\n",
    "    os.mkdir(destination1)\n",
    "\n",
    "def online_cut_patches(im, im_size=96, stride=32):\n",
    "    \"\"\"\n",
    "    function for crop the image to subpatches, will include corner cases\n",
    "    the return position (x,y) is the up left corner of the image\n",
    "    Args:\n",
    "        im (np.ndarray): the image for cropping\n",
    "        im_size (int, optional): the sub-image size. Defaults to 56.\n",
    "        stride (int, optional): the pixels between two sub-images. Defaults to 28.\n",
    "    Returns:\n",
    "        (list, list): list of image reference and list of its corresponding positions\n",
    "    \"\"\"\n",
    "    im_list = []\n",
    "    position_list = []\n",
    "\n",
    "    h, w, _ = im.shape\n",
    "    if h < im_size:\n",
    "        h_ = np.array([0])\n",
    "    else:\n",
    "        h_ = np.arange(0, h - im_size + 1, stride)\n",
    "        if h % stride != 0:\n",
    "            h_ = np.append(h_, h-im_size)\n",
    "\n",
    "    if w < im_size:\n",
    "        w_ = np.array([0])\n",
    "    else:\n",
    "        w_ = np.arange(0, w - im_size + 1, stride)\n",
    "        if w % stride != 0:\n",
    "            w_ = np.append(w_, w - im_size)\n",
    "\n",
    "    for i in h_:\n",
    "        for j in w_:   \t\n",
    "            temp = np.uint8(im[i:i+im_size,j:j+im_size,:])\n",
    "            im_list.append(temp)\n",
    "            position_list.append((i,j))\n",
    "    return im_list, position_list\n",
    "\n",
    "for i in tqdm(range(1, 81)):\n",
    "    im = np.asarray(Image.open(os.path.join(img_path, f'{i}.bmp')))\n",
    "    mask = np.asarray(Image.open(os.path.join(mask_path, f'{i}.png')))\n",
    "    crop_list, positions_list = online_cut_patches(im, 224, 224)\n",
    "    for j in range(len(crop_list)):\n",
    "        crop_im = crop_list[j]\n",
    "        position = positions_list[j]\n",
    "        crop_mask = mask[position[0]:position[0]+224, position[1]:position[1]+224]\n",
    "        has_tumor = 0\n",
    "        has_normal = 0\n",
    "        if np.sum(crop_mask > 0) / crop_mask.size > 0.05:\n",
    "            has_tumor = 1\n",
    "        if np.sum(crop_mask == 0) / crop_mask.size > 0.05:\n",
    "            has_normal = 1\n",
    "        Image.fromarray(crop_im).save(os.path.join(destination, f'train_{i}_{j}-[{has_tumor}, {has_normal}].png'))\n",
    "        Image.fromarray(crop_mask).save(os.path.join(destination1, f'train_{i}_{j}-[{has_tumor}, {has_normal}].png'))\n",
    "    "
   ]
  },
  {
   "cell_type": "code",
   "execution_count": 6,
   "metadata": {},
   "outputs": [],
   "source": [
    "from PIL import Image\n",
    "import os\n",
    "import numpy as np\n",
    "import png\n",
    "\n",
    "a = np.asarray(Image.open('/home/yzouag2/WSSS4LUAD/Dataset_warwick/1.training/mask/train_1_anno.bmp'))\n",
    "a[a >0] = 1\n",
    "palette = [(0, 64, 128), (64, 128, 0), (243, 152, 0), (255, 255, 255)]\n",
    "with open('test_train.png', 'wb') as f:\n",
    "    w = png.Writer(a.shape[1], a.shape[0],palette=palette, bitdepth=8)\n",
    "    w.write(f, a.astype(np.uint8))"
   ]
  },
  {
   "cell_type": "code",
   "execution_count": 9,
   "metadata": {},
   "outputs": [],
   "source": [
    "from PIL import Image\n",
    "import png\n",
    "import numpy as np\n",
    "import os\n",
    "\n",
    "path = 'fully'\n",
    "for file in os.listdir(path):\n",
    "    a = np.asarray(Image.open(os.path.join(path, file)))\n",
    "    palette = [(0, 64, 128), (64, 128, 0), (243, 152, 0), (255, 255, 255)]\n",
    "    with open('fully/'+file, 'wb') as f:\n",
    "        w = png.Writer(a.shape[1], a.shape[0],palette=palette, bitdepth=8)\n",
    "        w.write(f, a.astype(np.uint8))"
   ]
  },
  {
   "cell_type": "code",
   "execution_count": 2,
   "metadata": {},
   "outputs": [],
   "source": [
    "import numpy as np\n",
    "a = np.array([[1,0,0],[1,0,1]])\n",
    "b = np.array([[1,1,1],[0,0,1]])\n",
    "TP = np.sum(np.logical_and(a == 0, b == 0))\n",
    "FP = np.sum(np.logical_and(a == 0, b == 1))\n",
    "FN = np.sum(np.logical_and(a == 1, b == 0))"
   ]
  },
  {
   "cell_type": "code",
   "execution_count": 7,
   "metadata": {},
   "outputs": [
    {
     "name": "stdout",
     "output_type": "stream",
     "text": [
      "test_data/glas_ours_testPseudoMask, F1 score: 0.8376070680206164\n",
      "test_data/glas_seam_testPseudoMask, F1 score: 0.7746162921781536\n",
      "test_data/oeem_loss_merge, F1 score: 0.8816267849093171\n",
      "test_data/fully, F1 score: 0.934429999873453\n"
     ]
    }
   ],
   "source": [
    "import os\n",
    "import numpy as np\n",
    "from PIL import Image\n",
    "\n",
    "\n",
    "paths = ['test_data/glas_ours_testPseudoMask', 'test_data/glas_seam_testPseudoMask', 'test_data/oeem_loss_merge', 'test_data/fully']\n",
    "gt_path = 'test_data/gt'\n",
    "for path in paths:\n",
    "    TPs = 0\n",
    "    FPs = 0\n",
    "    FNs = 0\n",
    "    ims = os.listdir(path)\n",
    "    for im in ims:\n",
    "        pred = np.asarray(Image.open(os.path.join(path, im)))\n",
    "        gt = np.asarray(Image.open(os.path.join(gt_path, im)))\n",
    "        TP = np.sum(np.logical_and(pred == 0, gt == 0)) # 0 is glandular, 1 is non-glandular\n",
    "        FP = np.sum(np.logical_and(pred == 0, gt == 1))\n",
    "        FN = np.sum(np.logical_and(pred == 1, gt == 0))\n",
    "        TPs += TP\n",
    "        FPs += FP\n",
    "        FNs += FN\n",
    "    f1_score = TPs / (TPs + (FPs + FNs)/2)\n",
    "    print(f'{path}, F1 score: {f1_score}')"
   ]
  },
  {
   "cell_type": "code",
   "execution_count": 11,
   "metadata": {},
   "outputs": [],
   "source": [
    "import numpy as np\n",
    "from PIL import Image\n",
    "\n",
    "gt_path = 'Dataset_warwick/2.validation/mask/8.png'\n",
    "pred_path = 'glas_ours_testPseudoMask/8.png'\n",
    "\n",
    "gt = np.asarray(Image.open(gt_path))\n",
    "pred = np.asarray(Image.open(pred_path))\n",
    "\n",
    "false_map = np.zeros((gt.shape[0], gt.shape[1], 4))\n",
    "false_map[gt == pred] = [255, 255, 255, 0]\n",
    "false_map[gt != pred] = [0, 0, 255, 150]\n",
    "\n",
    "Image.fromarray(false_map.astype(np.uint8)).save('test.png')"
   ]
  },
  {
   "cell_type": "code",
   "execution_count": null,
   "metadata": {},
   "outputs": [],
   "source": []
  }
 ],
 "metadata": {
  "interpreter": {
   "hash": "61558924ab3633245815161a6816b03bfe4e57ccdcfba0102c5569b11310fc96"
  },
  "kernelspec": {
   "display_name": "Python 3.9.7 ('WSSS')",
   "language": "python",
   "name": "python3"
  },
  "language_info": {
   "codemirror_mode": {
    "name": "ipython",
    "version": 3
   },
   "file_extension": ".py",
   "mimetype": "text/x-python",
   "name": "python",
   "nbconvert_exporter": "python",
   "pygments_lexer": "ipython3",
   "version": "3.9.7"
  },
  "orig_nbformat": 4
 },
 "nbformat": 4,
 "nbformat_minor": 2
}
